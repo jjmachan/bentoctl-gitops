{
 "cells": [
  {
   "cell_type": "markdown",
   "id": "747e0e8d",
   "metadata": {},
   "source": [
    "# Quickstart with BentoML and Scikit-learn\n",
    "\n",
    "Link to source code: https://github.com/bentoml/gallery/tree/main/quickstart\n",
    "\n",
    "Install required dependencies:"
   ]
  },
  {
   "cell_type": "code",
   "execution_count": null,
   "id": "daa3cbef",
   "metadata": {},
   "outputs": [],
   "source": [
    "!pip install -r requirements.txt"
   ]
  },
  {
   "cell_type": "code",
   "execution_count": null,
   "id": "6d4454bd",
   "metadata": {},
   "outputs": [],
   "source": [
    "from sklearn import svm, datasets"
   ]
  },
  {
   "cell_type": "markdown",
   "id": "b66e31f7",
   "metadata": {},
   "source": [
    "### Train a classifier model using the iris dataset:"
   ]
  },
  {
   "cell_type": "code",
   "execution_count": null,
   "id": "eb526488",
   "metadata": {},
   "outputs": [],
   "source": [
    "# Load training data\n",
    "iris = datasets.load_iris()\n",
    "X, y = iris.data, iris.target\n",
    "\n",
    "# Model Training\n",
    "clf = svm.SVC()\n",
    "clf.fit(X, y)"
   ]
  },
  {
   "cell_type": "markdown",
   "id": "3c114c75",
   "metadata": {},
   "source": [
    "Save the `clf` model with BentoML:"
   ]
  },
  {
   "cell_type": "code",
   "execution_count": null,
   "id": "e94ed449",
   "metadata": {},
   "outputs": [],
   "source": [
    "import bentoml\n",
    "\n",
    "bentoml.sklearn.save(\"iris_clf\", clf)"
   ]
  },
  {
   "cell_type": "markdown",
   "id": "d613e57e",
   "metadata": {},
   "source": [
    "Models saved can be accessed via `bentoml models` CLI command:"
   ]
  },
  {
   "cell_type": "code",
   "execution_count": null,
   "id": "5a876780",
   "metadata": {},
   "outputs": [],
   "source": [
    "!bentoml models list"
   ]
  },
  {
   "cell_type": "markdown",
   "id": "672721c4",
   "metadata": {},
   "source": [
    "Test loading the model as a BentoML Runner instance:"
   ]
  },
  {
   "cell_type": "code",
   "execution_count": null,
   "id": "28ac794b",
   "metadata": {},
   "outputs": [],
   "source": [
    "test_runner = bentoml.sklearn.load_runner(\"iris_clf:latest\")\n",
    "test_runner.run([5.9, 3. , 5.1, 1.8])  # => array(2)"
   ]
  },
  {
   "cell_type": "markdown",
   "id": "3fa68254",
   "metadata": {},
   "source": [
    "### Create a BentoML Service for serving the model\n",
    "\n",
    "Note: using `%%writefile` here because `bentoml.Service` instance must be created in a separate `.py` file"
   ]
  },
  {
   "cell_type": "code",
   "execution_count": null,
   "id": "127aa3fd",
   "metadata": {},
   "outputs": [],
   "source": [
    "%%writefile service.py\n",
    "import numpy as np\n",
    "import bentoml\n",
    "from bentoml.io import NumpyNdarray\n",
    "\n",
    "\n",
    "iris_clf_runner = bentoml.sklearn.load_runner(\"iris_clf:latest\")\n",
    "\n",
    "svc = bentoml.Service(\"iris_classifier\", runners=[iris_clf_runner])\n",
    "\n",
    "\n",
    "@svc.api(input=NumpyNdarray(), output=NumpyNdarray())\n",
    "def classify(input_series: np.ndarray) -> np.ndarray:\n",
    "    return iris_clf_runner.run(input_series)"
   ]
  },
  {
   "cell_type": "markdown",
   "id": "203beeed",
   "metadata": {},
   "source": [
    "Start a dev model server to test out the service defined above:"
   ]
  },
  {
   "cell_type": "code",
   "execution_count": null,
   "id": "7523b58f",
   "metadata": {},
   "outputs": [],
   "source": [
    "!bentoml serve service.py:svc"
   ]
  },
  {
   "cell_type": "markdown",
   "id": "3974e4ce",
   "metadata": {},
   "source": [
    "Open a new browser tab and test out the API endpoint from the web UI."
   ]
  },
  {
   "cell_type": "markdown",
   "id": "4f1a8bcc",
   "metadata": {},
   "source": [
    "### Build a Bento for distribution and deployment"
   ]
  },
  {
   "cell_type": "code",
   "execution_count": null,
   "id": "6ef11159",
   "metadata": {},
   "outputs": [],
   "source": [
    "bentoml.build(\n",
    "    \"service.py:svc\",\n",
    "    include=[\"*.py\"],\n",
    "    description=\"file:./README.md\",\n",
    "    python=dict(\n",
    "        packages=[\"scikit-learn\"]\n",
    "    )\n",
    ")"
   ]
  },
  {
   "cell_type": "markdown",
   "id": "47505e3c",
   "metadata": {},
   "source": [
    "Starting a dev server with the Bento build:"
   ]
  },
  {
   "cell_type": "code",
   "execution_count": null,
   "id": "b7cab8b2",
   "metadata": {},
   "outputs": [],
   "source": [
    "!bentoml serve iris_classifier:latest"
   ]
  },
  {
   "cell_type": "markdown",
   "id": "4c159551",
   "metadata": {},
   "source": [
    "## Hooray, your model is ready for production now 🎉\n",
    "\n",
    "Bento is a standarlized format for storing models alongside with all its API definitions, configurations, and environment settings. BentoML can start an API server serving a Bento over REST API, run a Bento as batch processing job on distributed dataset, and containerize all dependencies and models into a docker container image for easy production deployment."
   ]
  },
  {
   "cell_type": "markdown",
   "id": "81ed8b84",
   "metadata": {},
   "source": [
    "### Optional: create a docker image for the model server"
   ]
  },
  {
   "cell_type": "markdown",
   "id": "8c215454",
   "metadata": {},
   "source": [
    "This will require docker cli to be installed and docker deamon running:"
   ]
  },
  {
   "cell_type": "code",
   "execution_count": null,
   "id": "5047751c",
   "metadata": {},
   "outputs": [],
   "source": [
    "bentoml.bentos.containerize(\"iris_classifier:latest\")"
   ]
  },
  {
   "cell_type": "markdown",
   "id": "b5bdf2a1",
   "metadata": {},
   "source": [
    "## What's next?\n",
    "\n",
    "* Learn more at http://docs.bentoml.org 📖\n",
    "* Join [BentoML Slack community](https://join.slack.com/t/bentoml/shared_invite/enQtNjcyMTY3MjE4NTgzLTU3ZDc1MWM5MzQxMWQxMzJiNTc1MTJmMzYzMTYwMjQ0OGEwNDFmZDkzYWQxNzgxYWNhNjAxZjk4MzI4OGY1Yjg) 👈\n",
    "* Follow us on [Twitter](https://twitter.com/bentomlai) 🐦\n",
    "* Contribute to [BentoML on Github](https://github.com/bentoml/BentoML) 💻"
   ]
  }
 ],
 "metadata": {
  "kernelspec": {
   "display_name": "Python 3 (ipykernel)",
   "language": "python",
   "name": "python3"
  },
  "language_info": {
   "codemirror_mode": {
    "name": "ipython",
    "version": 3
   },
   "file_extension": ".py",
   "mimetype": "text/x-python",
   "name": "python",
   "nbconvert_exporter": "python",
   "pygments_lexer": "ipython3",
   "version": "3.8.12"
  }
 },
 "nbformat": 4,
 "nbformat_minor": 5
}
